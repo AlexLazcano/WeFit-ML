{
 "cells": [
  {
   "cell_type": "code",
   "execution_count": null,
   "metadata": {},
   "outputs": [],
   "source": [
    "import numpy as np\n",
    "import pandas as pd"
   ]
  },
  {
   "cell_type": "code",
   "execution_count": null,
   "metadata": {},
   "outputs": [],
   "source": [
    "clean = pd.read_csv('../data/userDataClean.csv')\n",
    "\n",
    "compare = pd.concat([df['food_name'], clean['food_name']], axis=1)\n",
    "\n",
    "# rename columns\n",
    "\n",
    "compare.columns = ['original', 'clean']\n",
    "\n",
    "# sort columns\n",
    "\n",
    "# sort values in each column alphabetically\n",
    "compare = compare.apply(lambda x: x.sort_values().reset_index(drop=True))\n",
    "\n",
    "# Print the sorted DataFrame\n",
    "compare\n"
   ]
  }
 ],
 "metadata": {
  "language_info": {
   "name": "python"
  }
 },
 "nbformat": 4,
 "nbformat_minor": 2
}
