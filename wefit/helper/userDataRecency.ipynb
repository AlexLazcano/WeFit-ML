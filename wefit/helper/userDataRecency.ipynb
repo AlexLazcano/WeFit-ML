{
 "cells": [
  {
   "cell_type": "code",
   "execution_count": null,
   "metadata": {},
   "outputs": [],
   "source": [
    "import pandas as pd\n",
    "import numpy as np\n",
    "from sklearn.preprocessing import MinMaxScaler"
   ]
  },
  {
   "cell_type": "code",
   "execution_count": null,
   "metadata": {},
   "outputs": [],
   "source": [
    "user = pd.read_csv('../data/user.csv')\n",
    "\n",
    "userData = user[['food_name', 'log_date', 'time_of_day']].copy()  # Make a copy of the DataFrame\n",
    "\n",
    "userData['food_name'] = userData['food_name'].str.lower()  # Capitalize the food names\n",
    "\n",
    "userData['recency_days'] = (pd.to_datetime('today') - pd.to_datetime(userData['log_date'])).dt.days.clip(lower=0)\n",
    "\n",
    "userData"
   ]
  },
  {
   "cell_type": "code",
   "execution_count": null,
   "metadata": {},
   "outputs": [],
   "source": [
    "scaler = MinMaxScaler()\n",
    "\n",
    "WEIGHT_RECENCY = 1\n",
    "\n",
    "userData['recency_days'] = (1 - scaler.fit_transform(userData[['recency_days']])) * WEIGHT_RECENCY\n",
    "userData.drop(columns=['log_date'], inplace=True)\n",
    "\n",
    "userData\n",
    "\n",
    "userData.to_csv('../data/userDataRecency.csv', index=False)"
   ]
  },
  {
   "cell_type": "code",
   "execution_count": null,
   "metadata": {},
   "outputs": [],
   "source": []
  }
 ],
 "metadata": {
  "kernelspec": {
   "display_name": "Python 3",
   "language": "python",
   "name": "python3"
  },
  "language_info": {
   "codemirror_mode": {
    "name": "ipython",
    "version": 3
   },
   "file_extension": ".py",
   "mimetype": "text/x-python",
   "name": "python",
   "nbconvert_exporter": "python",
   "pygments_lexer": "ipython3",
   "version": "3.12.2"
  }
 },
 "nbformat": 4,
 "nbformat_minor": 2
}
