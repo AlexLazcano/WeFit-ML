{
 "cells": [
  {
   "cell_type": "code",
   "execution_count": 1,
   "metadata": {},
   "outputs": [
    {
     "name": "stdout",
     "output_type": "stream",
     "text": [
      "         meal_name meal_category                 ingredients    location  \\\n",
      "0      Fruit Salad         lunch                     [bacon]  restaurant   \n",
      "1  Grilled Chicken        dinner                     [bacon]        home   \n",
      "2   Bacon Sandwich     breakfast  [yogurt, vegetables, rice]        home   \n",
      "3   Scrambled Eggs         snack            [chicken, toast]        work   \n",
      "4    Chicken Salad        dinner         [toast, vegetables]  restaurant   \n",
      "\n",
      "            timestamp  \n",
      "0   2024-04-5 5:00:00  \n",
      "1   2024-04-5 6:00:00  \n",
      "2  2024-04-17 5:00:00  \n",
      "3  2024-04-4 21:00:00  \n",
      "4  2024-04-7 14:00:00  \n"
     ]
    }
   ],
   "source": [
    "import numpy as np\n",
    "import pandas as pd\n",
    "import random\n",
    "\n",
    "# Set random seed for reproducibility\n",
    "random.seed(42)\n",
    "\n",
    "# Sample meal categories\n",
    "meal_categories = np.array(['breakfast', 'lunch', 'dinner', 'snack'])\n",
    "\n",
    "# Sample ingredients\n",
    "ingredients = np.array(['eggs', 'toast', 'bacon', 'salad', 'chicken', 'rice', 'pasta', 'vegetables', 'fruit', 'yogurt'])\n",
    "\n",
    "# Sample locations\n",
    "locations = np.array(['home', 'work', 'restaurant', 'cafe'])\n",
    "\n",
    "# Sample meal names\n",
    "meal_names = np.array(['Scrambled Eggs', 'Chicken Salad', 'Vegetable Stir Fry', 'Yogurt Parfait', 'Pasta Carbonara', 'Fruit Salad', 'Toast with Jam', 'Grilled Chicken', 'Rice Bowl', 'Bacon Sandwich'])\n",
    "\n",
    "# Number of samples\n",
    "num_samples = 1000\n",
    "\n",
    "# Generate random indices for each attribute\n",
    "meal_category_indices = np.random.randint(0, len(meal_categories), num_samples)\n",
    "ingredient_indices = [np.random.choice(len(ingredients), random.randint(1, 5), replace=False) for _ in range(num_samples)]\n",
    "location_indices = np.random.randint(0, len(locations), num_samples)\n",
    "meal_name_indices = np.random.randint(0, len(meal_names), num_samples)\n",
    "timestamps = np.array([f'2024-04-{np.random.randint(1, 30)} {np.random.randint(0, 23)}:00:00' for _ in range(num_samples)])\n",
    "\n",
    "# Create sample meal data as a dictionary\n",
    "sample_meals_dict = {\n",
    "    'meal_name': meal_names[meal_name_indices],\n",
    "    'meal_category': meal_categories[meal_category_indices],\n",
    "    'ingredients': [ingredients[idx] for idx in ingredient_indices],\n",
    "    'location': locations[location_indices],\n",
    "    'timestamp': timestamps\n",
    "}\n",
    "\n",
    "# Convert the dictionary to a pandas DataFrame\n",
    "sample_meals_df = pd.DataFrame(sample_meals_dict)\n",
    "\n",
    "# Print the first 5 rows of the DataFrame\n",
    "print(sample_meals_df.head())\n"
   ]
  },
  {
   "cell_type": "markdown",
   "metadata": {},
   "source": []
  },
  {
   "cell_type": "code",
   "execution_count": 25,
   "metadata": {},
   "outputs": [
    {
     "name": "stdout",
     "output_type": "stream",
     "text": [
      "We suggest having salad for lunch at home.\n"
     ]
    }
   ],
   "source": [
    "from sklearn.feature_extraction.text import CountVectorizer\n",
    "from sklearn.naive_bayes import MultinomialNB\n",
    "from sklearn.pipeline import Pipeline\n",
    "\n",
    "class MealSuggestor:\n",
    "    def __init__(self):\n",
    "        self.model = Pipeline([\n",
    "            ('vectorizer', CountVectorizer()),\n",
    "            ('classifier', MultinomialNB())\n",
    "        ])\n",
    "\n",
    "    def train(self, meal_logs, targets):\n",
    "        self.model.fit(meal_logs, targets)\n",
    "\n",
    "    def suggest_next_meal(self, meal_logs, time, location):\n",
    "        # Filter meal logs based on time and location\n",
    "        relevant_meals = [meal['meal'] for meal in meal_logs if meal['time'] == time and meal['location'] == location]\n",
    "\n",
    "        if relevant_meals:\n",
    "            prediction = self.model.predict(relevant_meals)\n",
    "            suggested_meal = prediction[0]\n",
    "            return f\"We suggest having {suggested_meal} for {time} at {location}.\"\n",
    "        else:\n",
    "            return \"No meal logs found for the specified time and location.\"\n",
    "\n",
    "# Example usage:\n",
    "meal_logs = [\n",
    "    {'time': 'breakfast', 'location': 'home', 'meal': 'cereal'},\n",
    "    {'time': 'lunch', 'location': 'work', 'meal': 'sandwich'},\n",
    "    {'time': 'dinner', 'location': 'home', 'meal': 'pasta'},\n",
    "    {'time': 'breakfast', 'location': 'home', 'meal': 'toast'},\n",
    "    {'time': 'breakfast', 'location': 'work', 'meal': 'bagel'},\n",
    "    {'time': 'lunch', 'location': 'home', 'meal': 'salad'},\n",
    "    {'time': 'lunch', 'location': 'home', 'meal': 'salad'},\n",
    "    {'time': 'lunch', 'location': 'home', 'meal': 'pizza'},\n",
    "    {'time': 'lunch', 'location': 'home', 'meal': 'pizza'},\n",
    "    {'time': 'lunch', 'location': 'home', 'meal': 'pizza'},\n",
    "    {'time': 'lunch', 'location': 'home', 'meal': 'pizza'},\n",
    "    {'time': 'lunch', 'location': 'home', 'meal': 'pizza'},\n",
    "]\n",
    "\n",
    "targets = ['cereal', 'sandwich', 'pasta', 'toast', 'bagel', 'salad', 'salad', 'pizza', 'pizza', 'pizza', 'pizza', 'pizza']\n",
    "\n",
    "suggestor = MealSuggestor()\n",
    "suggestor.train([meal['meal'] for meal in meal_logs], targets)\n",
    "\n",
    "time = 'lunch'\n",
    "location = 'home'\n",
    "print(suggestor.suggest_next_meal(meal_logs, time, location))\n"
   ]
  }
 ],
 "metadata": {
  "kernelspec": {
   "display_name": "Python 3",
   "language": "python",
   "name": "python3"
  },
  "language_info": {
   "codemirror_mode": {
    "name": "ipython",
    "version": 3
   },
   "file_extension": ".py",
   "mimetype": "text/x-python",
   "name": "python",
   "nbconvert_exporter": "python",
   "pygments_lexer": "ipython3",
   "version": "3.12.2"
  }
 },
 "nbformat": 4,
 "nbformat_minor": 2
}
